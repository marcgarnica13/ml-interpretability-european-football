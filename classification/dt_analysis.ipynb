{
 "cells": [
  {
   "cell_type": "markdown",
   "metadata": {},
   "source": [
    "# Decisiton Tree interpretability notebook"
   ]
  },
  {
   "cell_type": "code",
   "execution_count": 1,
   "metadata": {},
   "outputs": [],
   "source": [
    "import os\n",
    "import matplotlib.pyplot as plt\n",
    "import pandas as pd\n",
    "\n",
    "from sklearn.tree import plot_tree\n",
    "from dtreeviz.trees import *\n",
    "from pycaret import classification"
   ]
  },
  {
   "cell_type": "markdown",
   "metadata": {},
   "source": [
    "### Exploratory data analysis\n",
    "Import to specify correctly the data path. Initally we can make an easy exploration."
   ]
  },
  {
   "cell_type": "code",
   "execution_count": 2,
   "metadata": {},
   "outputs": [],
   "source": [
    "data_folder_path = os.path.join('..', 'data')\n",
    "data_file = 'ds.csv'"
   ]
  },
  {
   "cell_type": "code",
   "execution_count": 3,
   "metadata": {},
   "outputs": [
    {
     "data": {
      "text/plain": [
       "1    2700\n",
       "0    1511\n",
       "Name: gender, dtype: int64"
      ]
     },
     "execution_count": 3,
     "metadata": {},
     "output_type": "execute_result"
    }
   ],
   "source": [
    "df = pd.read_csv(os.path.join(data_folder_path, data_file))\n",
    "df.describe()\n",
    "df.gender.value_counts()"
   ]
  },
  {
   "cell_type": "code",
   "execution_count": null,
   "metadata": {},
   "outputs": [],
   "source": [
    "playerTypes = pd.get_dummies(df['PlayerType'])\n",
    "df = pd.concat([df.drop(\"PlayerType\", axis=1), playerTypes], axis=1)\n",
    "df.head()"
   ]
  },
  {
   "cell_type": "markdown",
   "metadata": {},
   "source": [
    "### Classification Set-up\n",
    "Definition of main model hyperparameters. Numeric features and target with full description available."
   ]
  },
  {
   "cell_type": "code",
   "execution_count": 4,
   "metadata": {},
   "outputs": [
    {
     "name": "stdout",
     "output_type": "stream",
     "text": [
      "Setup Succesfully Completed!\n"
     ]
    },
    {
     "data": {
      "text/html": [
       "<style  type=\"text/css\" >\n",
       "</style><table id=\"T_e2fcf930_b300_11eb_9b43_d30441f29ab2\" ><thead>    <tr>        <th class=\"blank level0\" ></th>        <th class=\"col_heading level0 col0\" >Description</th>        <th class=\"col_heading level0 col1\" >Value</th>    </tr></thead><tbody>\n",
       "                <tr>\n",
       "                        <th id=\"T_e2fcf930_b300_11eb_9b43_d30441f29ab2level0_row0\" class=\"row_heading level0 row0\" >0</th>\n",
       "                        <td id=\"T_e2fcf930_b300_11eb_9b43_d30441f29ab2row0_col0\" class=\"data row0 col0\" >session_id</td>\n",
       "                        <td id=\"T_e2fcf930_b300_11eb_9b43_d30441f29ab2row0_col1\" class=\"data row0 col1\" >3472</td>\n",
       "            </tr>\n",
       "            <tr>\n",
       "                        <th id=\"T_e2fcf930_b300_11eb_9b43_d30441f29ab2level0_row1\" class=\"row_heading level0 row1\" >1</th>\n",
       "                        <td id=\"T_e2fcf930_b300_11eb_9b43_d30441f29ab2row1_col0\" class=\"data row1 col0\" >Target Type</td>\n",
       "                        <td id=\"T_e2fcf930_b300_11eb_9b43_d30441f29ab2row1_col1\" class=\"data row1 col1\" >Binary</td>\n",
       "            </tr>\n",
       "            <tr>\n",
       "                        <th id=\"T_e2fcf930_b300_11eb_9b43_d30441f29ab2level0_row2\" class=\"row_heading level0 row2\" >2</th>\n",
       "                        <td id=\"T_e2fcf930_b300_11eb_9b43_d30441f29ab2row2_col0\" class=\"data row2 col0\" >Label Encoded</td>\n",
       "                        <td id=\"T_e2fcf930_b300_11eb_9b43_d30441f29ab2row2_col1\" class=\"data row2 col1\" >None</td>\n",
       "            </tr>\n",
       "            <tr>\n",
       "                        <th id=\"T_e2fcf930_b300_11eb_9b43_d30441f29ab2level0_row3\" class=\"row_heading level0 row3\" >3</th>\n",
       "                        <td id=\"T_e2fcf930_b300_11eb_9b43_d30441f29ab2row3_col0\" class=\"data row3 col0\" >Original Data</td>\n",
       "                        <td id=\"T_e2fcf930_b300_11eb_9b43_d30441f29ab2row3_col1\" class=\"data row3 col1\" >(4211, 33)</td>\n",
       "            </tr>\n",
       "            <tr>\n",
       "                        <th id=\"T_e2fcf930_b300_11eb_9b43_d30441f29ab2level0_row4\" class=\"row_heading level0 row4\" >4</th>\n",
       "                        <td id=\"T_e2fcf930_b300_11eb_9b43_d30441f29ab2row4_col0\" class=\"data row4 col0\" >Missing Values </td>\n",
       "                        <td id=\"T_e2fcf930_b300_11eb_9b43_d30441f29ab2row4_col1\" class=\"data row4 col1\" >False</td>\n",
       "            </tr>\n",
       "            <tr>\n",
       "                        <th id=\"T_e2fcf930_b300_11eb_9b43_d30441f29ab2level0_row5\" class=\"row_heading level0 row5\" >5</th>\n",
       "                        <td id=\"T_e2fcf930_b300_11eb_9b43_d30441f29ab2row5_col0\" class=\"data row5 col0\" >Numeric Features </td>\n",
       "                        <td id=\"T_e2fcf930_b300_11eb_9b43_d30441f29ab2row5_col1\" class=\"data row5 col1\" >30</td>\n",
       "            </tr>\n",
       "            <tr>\n",
       "                        <th id=\"T_e2fcf930_b300_11eb_9b43_d30441f29ab2level0_row6\" class=\"row_heading level0 row6\" >6</th>\n",
       "                        <td id=\"T_e2fcf930_b300_11eb_9b43_d30441f29ab2row6_col0\" class=\"data row6 col0\" >Categorical Features </td>\n",
       "                        <td id=\"T_e2fcf930_b300_11eb_9b43_d30441f29ab2row6_col1\" class=\"data row6 col1\" >2</td>\n",
       "            </tr>\n",
       "            <tr>\n",
       "                        <th id=\"T_e2fcf930_b300_11eb_9b43_d30441f29ab2level0_row7\" class=\"row_heading level0 row7\" >7</th>\n",
       "                        <td id=\"T_e2fcf930_b300_11eb_9b43_d30441f29ab2row7_col0\" class=\"data row7 col0\" >Ordinal Features </td>\n",
       "                        <td id=\"T_e2fcf930_b300_11eb_9b43_d30441f29ab2row7_col1\" class=\"data row7 col1\" >False</td>\n",
       "            </tr>\n",
       "            <tr>\n",
       "                        <th id=\"T_e2fcf930_b300_11eb_9b43_d30441f29ab2level0_row8\" class=\"row_heading level0 row8\" >8</th>\n",
       "                        <td id=\"T_e2fcf930_b300_11eb_9b43_d30441f29ab2row8_col0\" class=\"data row8 col0\" >High Cardinality Features </td>\n",
       "                        <td id=\"T_e2fcf930_b300_11eb_9b43_d30441f29ab2row8_col1\" class=\"data row8 col1\" >False</td>\n",
       "            </tr>\n",
       "            <tr>\n",
       "                        <th id=\"T_e2fcf930_b300_11eb_9b43_d30441f29ab2level0_row9\" class=\"row_heading level0 row9\" >9</th>\n",
       "                        <td id=\"T_e2fcf930_b300_11eb_9b43_d30441f29ab2row9_col0\" class=\"data row9 col0\" >High Cardinality Method </td>\n",
       "                        <td id=\"T_e2fcf930_b300_11eb_9b43_d30441f29ab2row9_col1\" class=\"data row9 col1\" >None</td>\n",
       "            </tr>\n",
       "            <tr>\n",
       "                        <th id=\"T_e2fcf930_b300_11eb_9b43_d30441f29ab2level0_row10\" class=\"row_heading level0 row10\" >10</th>\n",
       "                        <td id=\"T_e2fcf930_b300_11eb_9b43_d30441f29ab2row10_col0\" class=\"data row10 col0\" >Sampled Data</td>\n",
       "                        <td id=\"T_e2fcf930_b300_11eb_9b43_d30441f29ab2row10_col1\" class=\"data row10 col1\" >(4211, 33)</td>\n",
       "            </tr>\n",
       "            <tr>\n",
       "                        <th id=\"T_e2fcf930_b300_11eb_9b43_d30441f29ab2level0_row11\" class=\"row_heading level0 row11\" >11</th>\n",
       "                        <td id=\"T_e2fcf930_b300_11eb_9b43_d30441f29ab2row11_col0\" class=\"data row11 col0\" >Transformed Train Set</td>\n",
       "                        <td id=\"T_e2fcf930_b300_11eb_9b43_d30441f29ab2row11_col1\" class=\"data row11 col1\" >(2947, 43)</td>\n",
       "            </tr>\n",
       "            <tr>\n",
       "                        <th id=\"T_e2fcf930_b300_11eb_9b43_d30441f29ab2level0_row12\" class=\"row_heading level0 row12\" >12</th>\n",
       "                        <td id=\"T_e2fcf930_b300_11eb_9b43_d30441f29ab2row12_col0\" class=\"data row12 col0\" >Transformed Test Set</td>\n",
       "                        <td id=\"T_e2fcf930_b300_11eb_9b43_d30441f29ab2row12_col1\" class=\"data row12 col1\" >(1264, 43)</td>\n",
       "            </tr>\n",
       "            <tr>\n",
       "                        <th id=\"T_e2fcf930_b300_11eb_9b43_d30441f29ab2level0_row13\" class=\"row_heading level0 row13\" >13</th>\n",
       "                        <td id=\"T_e2fcf930_b300_11eb_9b43_d30441f29ab2row13_col0\" class=\"data row13 col0\" >Numeric Imputer </td>\n",
       "                        <td id=\"T_e2fcf930_b300_11eb_9b43_d30441f29ab2row13_col1\" class=\"data row13 col1\" >mean</td>\n",
       "            </tr>\n",
       "            <tr>\n",
       "                        <th id=\"T_e2fcf930_b300_11eb_9b43_d30441f29ab2level0_row14\" class=\"row_heading level0 row14\" >14</th>\n",
       "                        <td id=\"T_e2fcf930_b300_11eb_9b43_d30441f29ab2row14_col0\" class=\"data row14 col0\" >Categorical Imputer </td>\n",
       "                        <td id=\"T_e2fcf930_b300_11eb_9b43_d30441f29ab2row14_col1\" class=\"data row14 col1\" >constant</td>\n",
       "            </tr>\n",
       "            <tr>\n",
       "                        <th id=\"T_e2fcf930_b300_11eb_9b43_d30441f29ab2level0_row15\" class=\"row_heading level0 row15\" >15</th>\n",
       "                        <td id=\"T_e2fcf930_b300_11eb_9b43_d30441f29ab2row15_col0\" class=\"data row15 col0\" >Normalize </td>\n",
       "                        <td id=\"T_e2fcf930_b300_11eb_9b43_d30441f29ab2row15_col1\" class=\"data row15 col1\" >False</td>\n",
       "            </tr>\n",
       "            <tr>\n",
       "                        <th id=\"T_e2fcf930_b300_11eb_9b43_d30441f29ab2level0_row16\" class=\"row_heading level0 row16\" >16</th>\n",
       "                        <td id=\"T_e2fcf930_b300_11eb_9b43_d30441f29ab2row16_col0\" class=\"data row16 col0\" >Normalize Method </td>\n",
       "                        <td id=\"T_e2fcf930_b300_11eb_9b43_d30441f29ab2row16_col1\" class=\"data row16 col1\" >None</td>\n",
       "            </tr>\n",
       "            <tr>\n",
       "                        <th id=\"T_e2fcf930_b300_11eb_9b43_d30441f29ab2level0_row17\" class=\"row_heading level0 row17\" >17</th>\n",
       "                        <td id=\"T_e2fcf930_b300_11eb_9b43_d30441f29ab2row17_col0\" class=\"data row17 col0\" >Transformation </td>\n",
       "                        <td id=\"T_e2fcf930_b300_11eb_9b43_d30441f29ab2row17_col1\" class=\"data row17 col1\" >False</td>\n",
       "            </tr>\n",
       "            <tr>\n",
       "                        <th id=\"T_e2fcf930_b300_11eb_9b43_d30441f29ab2level0_row18\" class=\"row_heading level0 row18\" >18</th>\n",
       "                        <td id=\"T_e2fcf930_b300_11eb_9b43_d30441f29ab2row18_col0\" class=\"data row18 col0\" >Transformation Method </td>\n",
       "                        <td id=\"T_e2fcf930_b300_11eb_9b43_d30441f29ab2row18_col1\" class=\"data row18 col1\" >None</td>\n",
       "            </tr>\n",
       "            <tr>\n",
       "                        <th id=\"T_e2fcf930_b300_11eb_9b43_d30441f29ab2level0_row19\" class=\"row_heading level0 row19\" >19</th>\n",
       "                        <td id=\"T_e2fcf930_b300_11eb_9b43_d30441f29ab2row19_col0\" class=\"data row19 col0\" >PCA </td>\n",
       "                        <td id=\"T_e2fcf930_b300_11eb_9b43_d30441f29ab2row19_col1\" class=\"data row19 col1\" >False</td>\n",
       "            </tr>\n",
       "            <tr>\n",
       "                        <th id=\"T_e2fcf930_b300_11eb_9b43_d30441f29ab2level0_row20\" class=\"row_heading level0 row20\" >20</th>\n",
       "                        <td id=\"T_e2fcf930_b300_11eb_9b43_d30441f29ab2row20_col0\" class=\"data row20 col0\" >PCA Method </td>\n",
       "                        <td id=\"T_e2fcf930_b300_11eb_9b43_d30441f29ab2row20_col1\" class=\"data row20 col1\" >None</td>\n",
       "            </tr>\n",
       "            <tr>\n",
       "                        <th id=\"T_e2fcf930_b300_11eb_9b43_d30441f29ab2level0_row21\" class=\"row_heading level0 row21\" >21</th>\n",
       "                        <td id=\"T_e2fcf930_b300_11eb_9b43_d30441f29ab2row21_col0\" class=\"data row21 col0\" >PCA Components </td>\n",
       "                        <td id=\"T_e2fcf930_b300_11eb_9b43_d30441f29ab2row21_col1\" class=\"data row21 col1\" >None</td>\n",
       "            </tr>\n",
       "            <tr>\n",
       "                        <th id=\"T_e2fcf930_b300_11eb_9b43_d30441f29ab2level0_row22\" class=\"row_heading level0 row22\" >22</th>\n",
       "                        <td id=\"T_e2fcf930_b300_11eb_9b43_d30441f29ab2row22_col0\" class=\"data row22 col0\" >Ignore Low Variance </td>\n",
       "                        <td id=\"T_e2fcf930_b300_11eb_9b43_d30441f29ab2row22_col1\" class=\"data row22 col1\" >False</td>\n",
       "            </tr>\n",
       "            <tr>\n",
       "                        <th id=\"T_e2fcf930_b300_11eb_9b43_d30441f29ab2level0_row23\" class=\"row_heading level0 row23\" >23</th>\n",
       "                        <td id=\"T_e2fcf930_b300_11eb_9b43_d30441f29ab2row23_col0\" class=\"data row23 col0\" >Combine Rare Levels </td>\n",
       "                        <td id=\"T_e2fcf930_b300_11eb_9b43_d30441f29ab2row23_col1\" class=\"data row23 col1\" >False</td>\n",
       "            </tr>\n",
       "            <tr>\n",
       "                        <th id=\"T_e2fcf930_b300_11eb_9b43_d30441f29ab2level0_row24\" class=\"row_heading level0 row24\" >24</th>\n",
       "                        <td id=\"T_e2fcf930_b300_11eb_9b43_d30441f29ab2row24_col0\" class=\"data row24 col0\" >Rare Level Threshold </td>\n",
       "                        <td id=\"T_e2fcf930_b300_11eb_9b43_d30441f29ab2row24_col1\" class=\"data row24 col1\" >None</td>\n",
       "            </tr>\n",
       "            <tr>\n",
       "                        <th id=\"T_e2fcf930_b300_11eb_9b43_d30441f29ab2level0_row25\" class=\"row_heading level0 row25\" >25</th>\n",
       "                        <td id=\"T_e2fcf930_b300_11eb_9b43_d30441f29ab2row25_col0\" class=\"data row25 col0\" >Numeric Binning </td>\n",
       "                        <td id=\"T_e2fcf930_b300_11eb_9b43_d30441f29ab2row25_col1\" class=\"data row25 col1\" >False</td>\n",
       "            </tr>\n",
       "            <tr>\n",
       "                        <th id=\"T_e2fcf930_b300_11eb_9b43_d30441f29ab2level0_row26\" class=\"row_heading level0 row26\" >26</th>\n",
       "                        <td id=\"T_e2fcf930_b300_11eb_9b43_d30441f29ab2row26_col0\" class=\"data row26 col0\" >Remove Outliers </td>\n",
       "                        <td id=\"T_e2fcf930_b300_11eb_9b43_d30441f29ab2row26_col1\" class=\"data row26 col1\" >False</td>\n",
       "            </tr>\n",
       "            <tr>\n",
       "                        <th id=\"T_e2fcf930_b300_11eb_9b43_d30441f29ab2level0_row27\" class=\"row_heading level0 row27\" >27</th>\n",
       "                        <td id=\"T_e2fcf930_b300_11eb_9b43_d30441f29ab2row27_col0\" class=\"data row27 col0\" >Outliers Threshold </td>\n",
       "                        <td id=\"T_e2fcf930_b300_11eb_9b43_d30441f29ab2row27_col1\" class=\"data row27 col1\" >None</td>\n",
       "            </tr>\n",
       "            <tr>\n",
       "                        <th id=\"T_e2fcf930_b300_11eb_9b43_d30441f29ab2level0_row28\" class=\"row_heading level0 row28\" >28</th>\n",
       "                        <td id=\"T_e2fcf930_b300_11eb_9b43_d30441f29ab2row28_col0\" class=\"data row28 col0\" >Remove Multicollinearity </td>\n",
       "                        <td id=\"T_e2fcf930_b300_11eb_9b43_d30441f29ab2row28_col1\" class=\"data row28 col1\" >False</td>\n",
       "            </tr>\n",
       "            <tr>\n",
       "                        <th id=\"T_e2fcf930_b300_11eb_9b43_d30441f29ab2level0_row29\" class=\"row_heading level0 row29\" >29</th>\n",
       "                        <td id=\"T_e2fcf930_b300_11eb_9b43_d30441f29ab2row29_col0\" class=\"data row29 col0\" >Multicollinearity Threshold </td>\n",
       "                        <td id=\"T_e2fcf930_b300_11eb_9b43_d30441f29ab2row29_col1\" class=\"data row29 col1\" >None</td>\n",
       "            </tr>\n",
       "            <tr>\n",
       "                        <th id=\"T_e2fcf930_b300_11eb_9b43_d30441f29ab2level0_row30\" class=\"row_heading level0 row30\" >30</th>\n",
       "                        <td id=\"T_e2fcf930_b300_11eb_9b43_d30441f29ab2row30_col0\" class=\"data row30 col0\" >Clustering </td>\n",
       "                        <td id=\"T_e2fcf930_b300_11eb_9b43_d30441f29ab2row30_col1\" class=\"data row30 col1\" >False</td>\n",
       "            </tr>\n",
       "            <tr>\n",
       "                        <th id=\"T_e2fcf930_b300_11eb_9b43_d30441f29ab2level0_row31\" class=\"row_heading level0 row31\" >31</th>\n",
       "                        <td id=\"T_e2fcf930_b300_11eb_9b43_d30441f29ab2row31_col0\" class=\"data row31 col0\" >Clustering Iteration </td>\n",
       "                        <td id=\"T_e2fcf930_b300_11eb_9b43_d30441f29ab2row31_col1\" class=\"data row31 col1\" >None</td>\n",
       "            </tr>\n",
       "            <tr>\n",
       "                        <th id=\"T_e2fcf930_b300_11eb_9b43_d30441f29ab2level0_row32\" class=\"row_heading level0 row32\" >32</th>\n",
       "                        <td id=\"T_e2fcf930_b300_11eb_9b43_d30441f29ab2row32_col0\" class=\"data row32 col0\" >Polynomial Features </td>\n",
       "                        <td id=\"T_e2fcf930_b300_11eb_9b43_d30441f29ab2row32_col1\" class=\"data row32 col1\" >False</td>\n",
       "            </tr>\n",
       "            <tr>\n",
       "                        <th id=\"T_e2fcf930_b300_11eb_9b43_d30441f29ab2level0_row33\" class=\"row_heading level0 row33\" >33</th>\n",
       "                        <td id=\"T_e2fcf930_b300_11eb_9b43_d30441f29ab2row33_col0\" class=\"data row33 col0\" >Polynomial Degree </td>\n",
       "                        <td id=\"T_e2fcf930_b300_11eb_9b43_d30441f29ab2row33_col1\" class=\"data row33 col1\" >None</td>\n",
       "            </tr>\n",
       "            <tr>\n",
       "                        <th id=\"T_e2fcf930_b300_11eb_9b43_d30441f29ab2level0_row34\" class=\"row_heading level0 row34\" >34</th>\n",
       "                        <td id=\"T_e2fcf930_b300_11eb_9b43_d30441f29ab2row34_col0\" class=\"data row34 col0\" >Trignometry Features </td>\n",
       "                        <td id=\"T_e2fcf930_b300_11eb_9b43_d30441f29ab2row34_col1\" class=\"data row34 col1\" >False</td>\n",
       "            </tr>\n",
       "            <tr>\n",
       "                        <th id=\"T_e2fcf930_b300_11eb_9b43_d30441f29ab2level0_row35\" class=\"row_heading level0 row35\" >35</th>\n",
       "                        <td id=\"T_e2fcf930_b300_11eb_9b43_d30441f29ab2row35_col0\" class=\"data row35 col0\" >Polynomial Threshold </td>\n",
       "                        <td id=\"T_e2fcf930_b300_11eb_9b43_d30441f29ab2row35_col1\" class=\"data row35 col1\" >None</td>\n",
       "            </tr>\n",
       "            <tr>\n",
       "                        <th id=\"T_e2fcf930_b300_11eb_9b43_d30441f29ab2level0_row36\" class=\"row_heading level0 row36\" >36</th>\n",
       "                        <td id=\"T_e2fcf930_b300_11eb_9b43_d30441f29ab2row36_col0\" class=\"data row36 col0\" >Group Features </td>\n",
       "                        <td id=\"T_e2fcf930_b300_11eb_9b43_d30441f29ab2row36_col1\" class=\"data row36 col1\" >False</td>\n",
       "            </tr>\n",
       "            <tr>\n",
       "                        <th id=\"T_e2fcf930_b300_11eb_9b43_d30441f29ab2level0_row37\" class=\"row_heading level0 row37\" >37</th>\n",
       "                        <td id=\"T_e2fcf930_b300_11eb_9b43_d30441f29ab2row37_col0\" class=\"data row37 col0\" >Feature Selection </td>\n",
       "                        <td id=\"T_e2fcf930_b300_11eb_9b43_d30441f29ab2row37_col1\" class=\"data row37 col1\" >False</td>\n",
       "            </tr>\n",
       "            <tr>\n",
       "                        <th id=\"T_e2fcf930_b300_11eb_9b43_d30441f29ab2level0_row38\" class=\"row_heading level0 row38\" >38</th>\n",
       "                        <td id=\"T_e2fcf930_b300_11eb_9b43_d30441f29ab2row38_col0\" class=\"data row38 col0\" >Features Selection Threshold </td>\n",
       "                        <td id=\"T_e2fcf930_b300_11eb_9b43_d30441f29ab2row38_col1\" class=\"data row38 col1\" >None</td>\n",
       "            </tr>\n",
       "            <tr>\n",
       "                        <th id=\"T_e2fcf930_b300_11eb_9b43_d30441f29ab2level0_row39\" class=\"row_heading level0 row39\" >39</th>\n",
       "                        <td id=\"T_e2fcf930_b300_11eb_9b43_d30441f29ab2row39_col0\" class=\"data row39 col0\" >Feature Interaction </td>\n",
       "                        <td id=\"T_e2fcf930_b300_11eb_9b43_d30441f29ab2row39_col1\" class=\"data row39 col1\" >False</td>\n",
       "            </tr>\n",
       "            <tr>\n",
       "                        <th id=\"T_e2fcf930_b300_11eb_9b43_d30441f29ab2level0_row40\" class=\"row_heading level0 row40\" >40</th>\n",
       "                        <td id=\"T_e2fcf930_b300_11eb_9b43_d30441f29ab2row40_col0\" class=\"data row40 col0\" >Feature Ratio </td>\n",
       "                        <td id=\"T_e2fcf930_b300_11eb_9b43_d30441f29ab2row40_col1\" class=\"data row40 col1\" >False</td>\n",
       "            </tr>\n",
       "            <tr>\n",
       "                        <th id=\"T_e2fcf930_b300_11eb_9b43_d30441f29ab2level0_row41\" class=\"row_heading level0 row41\" >41</th>\n",
       "                        <td id=\"T_e2fcf930_b300_11eb_9b43_d30441f29ab2row41_col0\" class=\"data row41 col0\" >Interaction Threshold </td>\n",
       "                        <td id=\"T_e2fcf930_b300_11eb_9b43_d30441f29ab2row41_col1\" class=\"data row41 col1\" >None</td>\n",
       "            </tr>\n",
       "            <tr>\n",
       "                        <th id=\"T_e2fcf930_b300_11eb_9b43_d30441f29ab2level0_row42\" class=\"row_heading level0 row42\" >42</th>\n",
       "                        <td id=\"T_e2fcf930_b300_11eb_9b43_d30441f29ab2row42_col0\" class=\"data row42 col0\" >Fix Imbalance</td>\n",
       "                        <td id=\"T_e2fcf930_b300_11eb_9b43_d30441f29ab2row42_col1\" class=\"data row42 col1\" >False</td>\n",
       "            </tr>\n",
       "            <tr>\n",
       "                        <th id=\"T_e2fcf930_b300_11eb_9b43_d30441f29ab2level0_row43\" class=\"row_heading level0 row43\" >43</th>\n",
       "                        <td id=\"T_e2fcf930_b300_11eb_9b43_d30441f29ab2row43_col0\" class=\"data row43 col0\" >Fix Imbalance Method</td>\n",
       "                        <td id=\"T_e2fcf930_b300_11eb_9b43_d30441f29ab2row43_col1\" class=\"data row43 col1\" >SMOTE</td>\n",
       "            </tr>\n",
       "    </tbody></table>"
      ],
      "text/plain": [
       "<pandas.io.formats.style.Styler at 0x7fd58fadf978>"
      ]
     },
     "metadata": {},
     "output_type": "display_data"
    }
   ],
   "source": [
    "classification_setup = classification.setup(\n",
    "    data=df,\n",
    "    target='gender',\n",
    "    numeric_features=[c for c in df.columns if c not in ['gender', 'matchPeriod', 'PlayerType']]\n",
    ")"
   ]
  },
  {
   "cell_type": "markdown",
   "metadata": {},
   "source": [
    "Initial exploration to understand general performance metrics for different classification algorithms (Focus at Accuracy and AUC)"
   ]
  },
  {
   "cell_type": "code",
   "execution_count": null,
   "metadata": {},
   "outputs": [],
   "source": [
    "classification.compare_models()"
   ]
  },
  {
   "cell_type": "markdown",
   "metadata": {},
   "source": [
    "Decision tree implementation, prunning of the tree at 40 samples per leaf and looking at the Entropy gain of each split.\n",
    "\n",
    "Model evaluated with a 10-fold cross validation."
   ]
  },
  {
   "cell_type": "code",
   "execution_count": 5,
   "metadata": {},
   "outputs": [
    {
     "data": {
      "text/html": [
       "<style  type=\"text/css\" >\n",
       "    #T_e5a7041e_b300_11eb_9b43_d30441f29ab2row10_col0 {\n",
       "            background:  yellow;\n",
       "        }    #T_e5a7041e_b300_11eb_9b43_d30441f29ab2row10_col1 {\n",
       "            background:  yellow;\n",
       "        }    #T_e5a7041e_b300_11eb_9b43_d30441f29ab2row10_col2 {\n",
       "            background:  yellow;\n",
       "        }    #T_e5a7041e_b300_11eb_9b43_d30441f29ab2row10_col3 {\n",
       "            background:  yellow;\n",
       "        }    #T_e5a7041e_b300_11eb_9b43_d30441f29ab2row10_col4 {\n",
       "            background:  yellow;\n",
       "        }    #T_e5a7041e_b300_11eb_9b43_d30441f29ab2row10_col5 {\n",
       "            background:  yellow;\n",
       "        }    #T_e5a7041e_b300_11eb_9b43_d30441f29ab2row10_col6 {\n",
       "            background:  yellow;\n",
       "        }</style><table id=\"T_e5a7041e_b300_11eb_9b43_d30441f29ab2\" ><thead>    <tr>        <th class=\"blank level0\" ></th>        <th class=\"col_heading level0 col0\" >Accuracy</th>        <th class=\"col_heading level0 col1\" >AUC</th>        <th class=\"col_heading level0 col2\" >Recall</th>        <th class=\"col_heading level0 col3\" >Prec.</th>        <th class=\"col_heading level0 col4\" >F1</th>        <th class=\"col_heading level0 col5\" >Kappa</th>        <th class=\"col_heading level0 col6\" >MCC</th>    </tr></thead><tbody>\n",
       "                <tr>\n",
       "                        <th id=\"T_e5a7041e_b300_11eb_9b43_d30441f29ab2level0_row0\" class=\"row_heading level0 row0\" >0</th>\n",
       "                        <td id=\"T_e5a7041e_b300_11eb_9b43_d30441f29ab2row0_col0\" class=\"data row0 col0\" >0.8508</td>\n",
       "                        <td id=\"T_e5a7041e_b300_11eb_9b43_d30441f29ab2row0_col1\" class=\"data row0 col1\" >0.9235</td>\n",
       "                        <td id=\"T_e5a7041e_b300_11eb_9b43_d30441f29ab2row0_col2\" class=\"data row0 col2\" >0.9206</td>\n",
       "                        <td id=\"T_e5a7041e_b300_11eb_9b43_d30441f29ab2row0_col3\" class=\"data row0 col3\" >0.8571</td>\n",
       "                        <td id=\"T_e5a7041e_b300_11eb_9b43_d30441f29ab2row0_col4\" class=\"data row0 col4\" >0.8878</td>\n",
       "                        <td id=\"T_e5a7041e_b300_11eb_9b43_d30441f29ab2row0_col5\" class=\"data row0 col5\" >0.6664</td>\n",
       "                        <td id=\"T_e5a7041e_b300_11eb_9b43_d30441f29ab2row0_col6\" class=\"data row0 col6\" >0.6702</td>\n",
       "            </tr>\n",
       "            <tr>\n",
       "                        <th id=\"T_e5a7041e_b300_11eb_9b43_d30441f29ab2level0_row1\" class=\"row_heading level0 row1\" >1</th>\n",
       "                        <td id=\"T_e5a7041e_b300_11eb_9b43_d30441f29ab2row1_col0\" class=\"data row1 col0\" >0.8441</td>\n",
       "                        <td id=\"T_e5a7041e_b300_11eb_9b43_d30441f29ab2row1_col1\" class=\"data row1 col1\" >0.9101</td>\n",
       "                        <td id=\"T_e5a7041e_b300_11eb_9b43_d30441f29ab2row1_col2\" class=\"data row1 col2\" >0.8889</td>\n",
       "                        <td id=\"T_e5a7041e_b300_11eb_9b43_d30441f29ab2row1_col3\" class=\"data row1 col3\" >0.8705</td>\n",
       "                        <td id=\"T_e5a7041e_b300_11eb_9b43_d30441f29ab2row1_col4\" class=\"data row1 col4\" >0.8796</td>\n",
       "                        <td id=\"T_e5a7041e_b300_11eb_9b43_d30441f29ab2row1_col5\" class=\"data row1 col5\" >0.6585</td>\n",
       "                        <td id=\"T_e5a7041e_b300_11eb_9b43_d30441f29ab2row1_col6\" class=\"data row1 col6\" >0.6588</td>\n",
       "            </tr>\n",
       "            <tr>\n",
       "                        <th id=\"T_e5a7041e_b300_11eb_9b43_d30441f29ab2level0_row2\" class=\"row_heading level0 row2\" >2</th>\n",
       "                        <td id=\"T_e5a7041e_b300_11eb_9b43_d30441f29ab2row2_col0\" class=\"data row2 col0\" >0.8407</td>\n",
       "                        <td id=\"T_e5a7041e_b300_11eb_9b43_d30441f29ab2row2_col1\" class=\"data row2 col1\" >0.9260</td>\n",
       "                        <td id=\"T_e5a7041e_b300_11eb_9b43_d30441f29ab2row2_col2\" class=\"data row2 col2\" >0.8889</td>\n",
       "                        <td id=\"T_e5a7041e_b300_11eb_9b43_d30441f29ab2row2_col3\" class=\"data row2 col3\" >0.8660</td>\n",
       "                        <td id=\"T_e5a7041e_b300_11eb_9b43_d30441f29ab2row2_col4\" class=\"data row2 col4\" >0.8773</td>\n",
       "                        <td id=\"T_e5a7041e_b300_11eb_9b43_d30441f29ab2row2_col5\" class=\"data row2 col5\" >0.6503</td>\n",
       "                        <td id=\"T_e5a7041e_b300_11eb_9b43_d30441f29ab2row2_col6\" class=\"data row2 col6\" >0.6508</td>\n",
       "            </tr>\n",
       "            <tr>\n",
       "                        <th id=\"T_e5a7041e_b300_11eb_9b43_d30441f29ab2level0_row3\" class=\"row_heading level0 row3\" >3</th>\n",
       "                        <td id=\"T_e5a7041e_b300_11eb_9b43_d30441f29ab2row3_col0\" class=\"data row3 col0\" >0.8407</td>\n",
       "                        <td id=\"T_e5a7041e_b300_11eb_9b43_d30441f29ab2row3_col1\" class=\"data row3 col1\" >0.9208</td>\n",
       "                        <td id=\"T_e5a7041e_b300_11eb_9b43_d30441f29ab2row3_col2\" class=\"data row3 col2\" >0.8519</td>\n",
       "                        <td id=\"T_e5a7041e_b300_11eb_9b43_d30441f29ab2row3_col3\" class=\"data row3 col3\" >0.8944</td>\n",
       "                        <td id=\"T_e5a7041e_b300_11eb_9b43_d30441f29ab2row3_col4\" class=\"data row3 col4\" >0.8726</td>\n",
       "                        <td id=\"T_e5a7041e_b300_11eb_9b43_d30441f29ab2row3_col5\" class=\"data row3 col5\" >0.6603</td>\n",
       "                        <td id=\"T_e5a7041e_b300_11eb_9b43_d30441f29ab2row3_col6\" class=\"data row3 col6\" >0.6617</td>\n",
       "            </tr>\n",
       "            <tr>\n",
       "                        <th id=\"T_e5a7041e_b300_11eb_9b43_d30441f29ab2level0_row4\" class=\"row_heading level0 row4\" >4</th>\n",
       "                        <td id=\"T_e5a7041e_b300_11eb_9b43_d30441f29ab2row4_col0\" class=\"data row4 col0\" >0.8441</td>\n",
       "                        <td id=\"T_e5a7041e_b300_11eb_9b43_d30441f29ab2row4_col1\" class=\"data row4 col1\" >0.9241</td>\n",
       "                        <td id=\"T_e5a7041e_b300_11eb_9b43_d30441f29ab2row4_col2\" class=\"data row4 col2\" >0.8836</td>\n",
       "                        <td id=\"T_e5a7041e_b300_11eb_9b43_d30441f29ab2row4_col3\" class=\"data row4 col3\" >0.8743</td>\n",
       "                        <td id=\"T_e5a7041e_b300_11eb_9b43_d30441f29ab2row4_col4\" class=\"data row4 col4\" >0.8789</td>\n",
       "                        <td id=\"T_e5a7041e_b300_11eb_9b43_d30441f29ab2row4_col5\" class=\"data row4 col5\" >0.6599</td>\n",
       "                        <td id=\"T_e5a7041e_b300_11eb_9b43_d30441f29ab2row4_col6\" class=\"data row4 col6\" >0.6600</td>\n",
       "            </tr>\n",
       "            <tr>\n",
       "                        <th id=\"T_e5a7041e_b300_11eb_9b43_d30441f29ab2level0_row5\" class=\"row_heading level0 row5\" >5</th>\n",
       "                        <td id=\"T_e5a7041e_b300_11eb_9b43_d30441f29ab2row5_col0\" class=\"data row5 col0\" >0.8542</td>\n",
       "                        <td id=\"T_e5a7041e_b300_11eb_9b43_d30441f29ab2row5_col1\" class=\"data row5 col1\" >0.9298</td>\n",
       "                        <td id=\"T_e5a7041e_b300_11eb_9b43_d30441f29ab2row5_col2\" class=\"data row5 col2\" >0.8942</td>\n",
       "                        <td id=\"T_e5a7041e_b300_11eb_9b43_d30441f29ab2row5_col3\" class=\"data row5 col3\" >0.8802</td>\n",
       "                        <td id=\"T_e5a7041e_b300_11eb_9b43_d30441f29ab2row5_col4\" class=\"data row5 col4\" >0.8871</td>\n",
       "                        <td id=\"T_e5a7041e_b300_11eb_9b43_d30441f29ab2row5_col5\" class=\"data row5 col5\" >0.6814</td>\n",
       "                        <td id=\"T_e5a7041e_b300_11eb_9b43_d30441f29ab2row5_col6\" class=\"data row5 col6\" >0.6816</td>\n",
       "            </tr>\n",
       "            <tr>\n",
       "                        <th id=\"T_e5a7041e_b300_11eb_9b43_d30441f29ab2level0_row6\" class=\"row_heading level0 row6\" >6</th>\n",
       "                        <td id=\"T_e5a7041e_b300_11eb_9b43_d30441f29ab2row6_col0\" class=\"data row6 col0\" >0.8542</td>\n",
       "                        <td id=\"T_e5a7041e_b300_11eb_9b43_d30441f29ab2row6_col1\" class=\"data row6 col1\" >0.9197</td>\n",
       "                        <td id=\"T_e5a7041e_b300_11eb_9b43_d30441f29ab2row6_col2\" class=\"data row6 col2\" >0.8836</td>\n",
       "                        <td id=\"T_e5a7041e_b300_11eb_9b43_d30441f29ab2row6_col3\" class=\"data row6 col3\" >0.8883</td>\n",
       "                        <td id=\"T_e5a7041e_b300_11eb_9b43_d30441f29ab2row6_col4\" class=\"data row6 col4\" >0.8859</td>\n",
       "                        <td id=\"T_e5a7041e_b300_11eb_9b43_d30441f29ab2row6_col5\" class=\"data row6 col5\" >0.6841</td>\n",
       "                        <td id=\"T_e5a7041e_b300_11eb_9b43_d30441f29ab2row6_col6\" class=\"data row6 col6\" >0.6841</td>\n",
       "            </tr>\n",
       "            <tr>\n",
       "                        <th id=\"T_e5a7041e_b300_11eb_9b43_d30441f29ab2level0_row7\" class=\"row_heading level0 row7\" >7</th>\n",
       "                        <td id=\"T_e5a7041e_b300_11eb_9b43_d30441f29ab2row7_col0\" class=\"data row7 col0\" >0.8741</td>\n",
       "                        <td id=\"T_e5a7041e_b300_11eb_9b43_d30441f29ab2row7_col1\" class=\"data row7 col1\" >0.9360</td>\n",
       "                        <td id=\"T_e5a7041e_b300_11eb_9b43_d30441f29ab2row7_col2\" class=\"data row7 col2\" >0.9101</td>\n",
       "                        <td id=\"T_e5a7041e_b300_11eb_9b43_d30441f29ab2row7_col3\" class=\"data row7 col3\" >0.8958</td>\n",
       "                        <td id=\"T_e5a7041e_b300_11eb_9b43_d30441f29ab2row7_col4\" class=\"data row7 col4\" >0.9029</td>\n",
       "                        <td id=\"T_e5a7041e_b300_11eb_9b43_d30441f29ab2row7_col5\" class=\"data row7 col5\" >0.7242</td>\n",
       "                        <td id=\"T_e5a7041e_b300_11eb_9b43_d30441f29ab2row7_col6\" class=\"data row7 col6\" >0.7244</td>\n",
       "            </tr>\n",
       "            <tr>\n",
       "                        <th id=\"T_e5a7041e_b300_11eb_9b43_d30441f29ab2level0_row8\" class=\"row_heading level0 row8\" >8</th>\n",
       "                        <td id=\"T_e5a7041e_b300_11eb_9b43_d30441f29ab2row8_col0\" class=\"data row8 col0\" >0.8265</td>\n",
       "                        <td id=\"T_e5a7041e_b300_11eb_9b43_d30441f29ab2row8_col1\" class=\"data row8 col1\" >0.9180</td>\n",
       "                        <td id=\"T_e5a7041e_b300_11eb_9b43_d30441f29ab2row8_col2\" class=\"data row8 col2\" >0.8677</td>\n",
       "                        <td id=\"T_e5a7041e_b300_11eb_9b43_d30441f29ab2row8_col3\" class=\"data row8 col3\" >0.8632</td>\n",
       "                        <td id=\"T_e5a7041e_b300_11eb_9b43_d30441f29ab2row8_col4\" class=\"data row8 col4\" >0.8654</td>\n",
       "                        <td id=\"T_e5a7041e_b300_11eb_9b43_d30441f29ab2row8_col5\" class=\"data row8 col5\" >0.6214</td>\n",
       "                        <td id=\"T_e5a7041e_b300_11eb_9b43_d30441f29ab2row8_col6\" class=\"data row8 col6\" >0.6214</td>\n",
       "            </tr>\n",
       "            <tr>\n",
       "                        <th id=\"T_e5a7041e_b300_11eb_9b43_d30441f29ab2level0_row9\" class=\"row_heading level0 row9\" >9</th>\n",
       "                        <td id=\"T_e5a7041e_b300_11eb_9b43_d30441f29ab2row9_col0\" class=\"data row9 col0\" >0.8469</td>\n",
       "                        <td id=\"T_e5a7041e_b300_11eb_9b43_d30441f29ab2row9_col1\" class=\"data row9 col1\" >0.9177</td>\n",
       "                        <td id=\"T_e5a7041e_b300_11eb_9b43_d30441f29ab2row9_col2\" class=\"data row9 col2\" >0.8730</td>\n",
       "                        <td id=\"T_e5a7041e_b300_11eb_9b43_d30441f29ab2row9_col3\" class=\"data row9 col3\" >0.8871</td>\n",
       "                        <td id=\"T_e5a7041e_b300_11eb_9b43_d30441f29ab2row9_col4\" class=\"data row9 col4\" >0.8800</td>\n",
       "                        <td id=\"T_e5a7041e_b300_11eb_9b43_d30441f29ab2row9_col5\" class=\"data row9 col5\" >0.6688</td>\n",
       "                        <td id=\"T_e5a7041e_b300_11eb_9b43_d30441f29ab2row9_col6\" class=\"data row9 col6\" >0.6689</td>\n",
       "            </tr>\n",
       "            <tr>\n",
       "                        <th id=\"T_e5a7041e_b300_11eb_9b43_d30441f29ab2level0_row10\" class=\"row_heading level0 row10\" >Mean</th>\n",
       "                        <td id=\"T_e5a7041e_b300_11eb_9b43_d30441f29ab2row10_col0\" class=\"data row10 col0\" >0.8476</td>\n",
       "                        <td id=\"T_e5a7041e_b300_11eb_9b43_d30441f29ab2row10_col1\" class=\"data row10 col1\" >0.9226</td>\n",
       "                        <td id=\"T_e5a7041e_b300_11eb_9b43_d30441f29ab2row10_col2\" class=\"data row10 col2\" >0.8862</td>\n",
       "                        <td id=\"T_e5a7041e_b300_11eb_9b43_d30441f29ab2row10_col3\" class=\"data row10 col3\" >0.8777</td>\n",
       "                        <td id=\"T_e5a7041e_b300_11eb_9b43_d30441f29ab2row10_col4\" class=\"data row10 col4\" >0.8818</td>\n",
       "                        <td id=\"T_e5a7041e_b300_11eb_9b43_d30441f29ab2row10_col5\" class=\"data row10 col5\" >0.6675</td>\n",
       "                        <td id=\"T_e5a7041e_b300_11eb_9b43_d30441f29ab2row10_col6\" class=\"data row10 col6\" >0.6682</td>\n",
       "            </tr>\n",
       "            <tr>\n",
       "                        <th id=\"T_e5a7041e_b300_11eb_9b43_d30441f29ab2level0_row11\" class=\"row_heading level0 row11\" >SD</th>\n",
       "                        <td id=\"T_e5a7041e_b300_11eb_9b43_d30441f29ab2row11_col0\" class=\"data row11 col0\" >0.0117</td>\n",
       "                        <td id=\"T_e5a7041e_b300_11eb_9b43_d30441f29ab2row11_col1\" class=\"data row11 col1\" >0.0068</td>\n",
       "                        <td id=\"T_e5a7041e_b300_11eb_9b43_d30441f29ab2row11_col2\" class=\"data row11 col2\" >0.0188</td>\n",
       "                        <td id=\"T_e5a7041e_b300_11eb_9b43_d30441f29ab2row11_col3\" class=\"data row11 col3\" >0.0128</td>\n",
       "                        <td id=\"T_e5a7041e_b300_11eb_9b43_d30441f29ab2row11_col4\" class=\"data row11 col4\" >0.0096</td>\n",
       "                        <td id=\"T_e5a7041e_b300_11eb_9b43_d30441f29ab2row11_col5\" class=\"data row11 col5\" >0.0251</td>\n",
       "                        <td id=\"T_e5a7041e_b300_11eb_9b43_d30441f29ab2row11_col6\" class=\"data row11 col6\" >0.0251</td>\n",
       "            </tr>\n",
       "    </tbody></table>"
      ],
      "text/plain": [
       "<pandas.io.formats.style.Styler at 0x7fd598a14e48>"
      ]
     },
     "metadata": {},
     "output_type": "display_data"
    }
   ],
   "source": [
    "classification.set_config('seed', 7940)\n",
    "dt_model = classification.create_model('dt', min_samples_leaf=40, criterion='entropy')"
   ]
  },
  {
   "cell_type": "code",
   "execution_count": null,
   "metadata": {},
   "outputs": [],
   "source": [
    "dt_model"
   ]
  },
  {
   "cell_type": "code",
   "execution_count": null,
   "metadata": {},
   "outputs": [],
   "source": [
    "tuned_dt_model = classification.tune_model(dt_model)"
   ]
  },
  {
   "cell_type": "code",
   "execution_count": null,
   "metadata": {},
   "outputs": [],
   "source": [
    "dt_model = classification.load_model('./static_models/dt_6_10')"
   ]
  },
  {
   "cell_type": "code",
   "execution_count": null,
   "metadata": {},
   "outputs": [],
   "source": [
    "dt_model"
   ]
  },
  {
   "cell_type": "markdown",
   "metadata": {},
   "source": [
    "### Decision Tree implementation\n",
    "- Feature importance as an aggregated from each split.\n",
    "- Full Tree visualization."
   ]
  },
  {
   "cell_type": "code",
   "execution_count": null,
   "metadata": {},
   "outputs": [],
   "source": [
    "classification_setup[0].columns"
   ]
  },
  {
   "cell_type": "code",
   "execution_count": null,
   "metadata": {},
   "outputs": [],
   "source": [
    "plot_options = [\"auc\",\"threshold\",\"pr\",\"confusion_matrix\",\"error\",\"class_report\",\"boundary\",\"rfe\",\"learning\",\"manifold\",\"calibration\",\"vc\",\"dimension\",\"feature\",\"parameter\"]\n",
    "classification.plot_model(dt_model, plot='feature', save=True)\n",
    "#Importance of the features measured by how much the nod purity is imporved on average."
   ]
  },
  {
   "cell_type": "code",
   "execution_count": null,
   "metadata": {},
   "outputs": [],
   "source": [
    "interpretation_options = ['summary', 'correlation', 'reason']\n",
    "classification.interpret_model(dt_model, interpretation_options[0])"
   ]
  },
  {
   "cell_type": "code",
   "execution_count": null,
   "metadata": {},
   "outputs": [],
   "source": [
    "classification.interpret_model(dt_model, interpretation_options[1], feature='Clearances')"
   ]
  },
  {
   "cell_type": "code",
   "execution_count": 7,
   "metadata": {},
   "outputs": [],
   "source": [
    "viz = dtreeviz(dt_model, classification_setup[0], df.gender, target_name='gender', feature_names=classification_setup[0].columns, class_names=['Female', 'Male'], orientation='TD', fontname='serif')\n",
    "viz.view()"
   ]
  },
  {
   "cell_type": "code",
   "execution_count": null,
   "metadata": {},
   "outputs": [],
   "source": [
    "classification.plot_model(dt_model, plot='boundary')"
   ]
  },
  {
   "cell_type": "code",
   "execution_count": null,
   "metadata": {},
   "outputs": [],
   "source": [
    "\n",
    "plot_tree(dt_model, filled=True)"
   ]
  },
  {
   "cell_type": "markdown",
   "metadata": {},
   "source": [
    "### Scientific Reporting"
   ]
  },
  {
   "cell_type": "code",
   "execution_count": null,
   "metadata": {},
   "outputs": [],
   "source": [
    "coef_df = pd.DataFrame({'Feature': classification_setup[0].columns, 'Coefficients': dt_model.feature_importances_})"
   ]
  },
  {
   "cell_type": "code",
   "execution_count": null,
   "metadata": {},
   "outputs": [],
   "source": [
    "coef_df.sort_values(by=['Coefficients'], ascending=False).head(10).to_latex(index=False)"
   ]
  },
  {
   "cell_type": "code",
   "execution_count": null,
   "metadata": {},
   "outputs": [],
   "source": []
  }
 ],
 "metadata": {
  "kernelspec": {
   "display_name": "Python 3",
   "language": "python",
   "name": "python3"
  },
  "language_info": {
   "codemirror_mode": {
    "name": "ipython",
    "version": 3
   },
   "file_extension": ".py",
   "mimetype": "text/x-python",
   "name": "python",
   "nbconvert_exporter": "python",
   "pygments_lexer": "ipython3",
   "version": "3.6.9"
  }
 },
 "nbformat": 4,
 "nbformat_minor": 4
}
